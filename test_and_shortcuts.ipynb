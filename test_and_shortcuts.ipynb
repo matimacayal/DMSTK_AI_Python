{
 "cells": [
  {
   "cell_type": "markdown",
   "metadata": {},
   "source": [
    "# **VSCode Jupyter: markdown and shortcuts test**"
   ]
  },
  {
   "cell_type": "markdown",
   "metadata": {},
   "source": [
    "# Heading 1"
   ]
  },
  {
   "cell_type": "markdown",
   "metadata": {},
   "source": [
    "Just markwodn text showed in here lorem ipsum"
   ]
  },
  {
   "cell_type": "code",
   "execution_count": 3,
   "metadata": {},
   "outputs": [
    {
     "name": "stdout",
     "output_type": "stream",
     "text": [
      "nofow\n"
     ]
    }
   ],
   "source": [
    "print(\"nofow\")"
   ]
  },
  {
   "cell_type": "markdown",
   "metadata": {},
   "source": [
    "## Heading 2 "
   ]
  },
  {
   "cell_type": "code",
   "execution_count": 4,
   "metadata": {},
   "outputs": [
    {
     "name": "stdout",
     "output_type": "stream",
     "text": [
      "oijfiowef\n"
     ]
    }
   ],
   "source": [
    "print(\"oijfiowef\")"
   ]
  },
  {
   "cell_type": "markdown",
   "metadata": {},
   "source": [
    "### Heading 3"
   ]
  },
  {
   "cell_type": "code",
   "execution_count": 5,
   "metadata": {},
   "outputs": [],
   "source": [
    "#wiojfoiwef"
   ]
  },
  {
   "cell_type": "markdown",
   "metadata": {},
   "source": [
    "#### Heading 4"
   ]
  },
  {
   "cell_type": "code",
   "execution_count": 6,
   "metadata": {},
   "outputs": [
    {
     "name": "stdout",
     "output_type": "stream",
     "text": [
      "wiejfo\n"
     ]
    }
   ],
   "source": [
    "print(\"wiejfo\")"
   ]
  },
  {
   "cell_type": "markdown",
   "metadata": {},
   "source": [
    "##### Heading 5"
   ]
  },
  {
   "cell_type": "markdown",
   "metadata": {},
   "source": [
    "Just some other text under heading 5"
   ]
  },
  {
   "cell_type": "code",
   "execution_count": 7,
   "metadata": {},
   "outputs": [
    {
     "name": "stdout",
     "output_type": "stream",
     "text": [
      "iwaoefoij\n"
     ]
    }
   ],
   "source": [
    "print(\"iwaoefoij\")"
   ]
  },
  {
   "cell_type": "markdown",
   "metadata": {},
   "source": [
    "###### Heading 6"
   ]
  },
  {
   "cell_type": "markdown",
   "metadata": {},
   "source": [
    "⬆️ Over the 5th heading it doesn't work "
   ]
  },
  {
   "cell_type": "markdown",
   "metadata": {},
   "source": [
    "####### Heading 7"
   ]
  },
  {
   "cell_type": "code",
   "execution_count": 8,
   "metadata": {},
   "outputs": [
    {
     "name": "stdout",
     "output_type": "stream",
     "text": [
      "⬆️ over the sixth heading it doesn't work, it's just text\n"
     ]
    }
   ],
   "source": [
    "print(\"⬆️ over the sixth heading it doesn't work, it's just text\") "
   ]
  },
  {
   "cell_type": "markdown",
   "metadata": {},
   "source": [
    "# VSCode Jupyter Shortcuts"
   ]
  },
  {
   "cell_type": "markdown",
   "metadata": {},
   "source": [
    "##### Shortcuts for Command Mode"
   ]
  },
  {
   "cell_type": "markdown",
   "metadata": {},
   "source": [
    "**Enter**:       Change to edit mode\n",
    "\n",
    "**A** :          Add a cell above\n",
    "\n",
    "**B** :          Add a cell below\n",
    "\n",
    "**Alt+↑**:       Move cell up\n",
    "\n",
    "**Alt+↓**:       Move cell down\n",
    "\n",
    "**Alt+Shift+↑**: Copy cell downwards (focus remains on current cell)\n",
    "\n",
    "**Alt+Shift+↓**: Copy cell downwards (focus moves to new cell)\n",
    "\n",
    "**dd** :         Delete a selected cell\n",
    "\n",
    "**z** :          Undo the last change\n",
    "\n",
    "**L** :          Enable/Disable line numbers\n",
    "\n",
    "**M** :          switch the cell type from Code to Markdown\n",
    "\n",
    "**Y** :          switch the cell type from Markdown to Code"
   ]
  },
  {
   "cell_type": "markdown",
   "metadata": {},
   "source": [
    "##### Shortcuts for Edit Mode"
   ]
  },
  {
   "cell_type": "markdown",
   "metadata": {},
   "source": [
    "\n",
    "**Esc** : Change to command mode\n",
    "\n",
    "**Alt + Shift + ↑**: Copy current line text downwards (focus remains on current line)\n",
    "\n",
    "**Alt + Shift + ↓**: Copy current line text downwards (focus moves to next line)\n",
    "\n",
    "**Ctrl+Enter/Shift+Enter**: To render Markdown cell\n"
   ]
  },
  {
   "cell_type": "markdown",
   "metadata": {},
   "source": [
    "##### Shortcuts for both the Modes"
   ]
  },
  {
   "cell_type": "markdown",
   "metadata": {},
   "source": [
    "**Ctrl+Enter** : Run the currently selected cell\n",
    "\n",
    "**Shift+Enter** : Run the currently selected cell and focus moves to new cell\n",
    "\n",
    "**Alt+Enter** : Run the currently selected cell and insert a new cell immediately below (focus moves to new cell)"
   ]
  },
  {
   "cell_type": "markdown",
   "metadata": {},
   "source": []
  },
  {
   "cell_type": "markdown",
   "metadata": {},
   "source": []
  }
 ],
 "metadata": {
  "kernelspec": {
   "display_name": "dmstk_ai_python",
   "language": "python",
   "name": "dmstk_ai_python"
  },
  "language_info": {
   "codemirror_mode": {
    "name": "ipython",
    "version": 3
   },
   "file_extension": ".py",
   "mimetype": "text/x-python",
   "name": "python",
   "nbconvert_exporter": "python",
   "pygments_lexer": "ipython3",
   "version": "3.10.12"
  }
 },
 "nbformat": 4,
 "nbformat_minor": 2
}
