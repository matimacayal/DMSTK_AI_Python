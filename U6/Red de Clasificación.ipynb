{
 "cells": [
  {
   "cell_type": "code",
   "execution_count": 1,
   "metadata": {},
   "outputs": [],
   "source": [
    "# Vamos a usar un conjunto de datos llamado MNIST,\n",
    "# es especial ya que no permite identificar números\n",
    "# escritos a mano.\n",
    "\n",
    "# El set ya viene separado en 60 imágenes de train y 10mil de test.\n",
    "# Cada imagen tiene shape (28,28,1) -> 288x28 pixeles + 1 canal de\n",
    "#   color, blanco y negro en este caso."
   ]
  },
  {
   "cell_type": "code",
   "execution_count": 2,
   "metadata": {},
   "outputs": [],
   "source": [
    "import tensorflow as tf\n",
    "import tensorflow_datasets as tfds"
   ]
  },
  {
   "cell_type": "code",
   "execution_count": 3,
   "metadata": {},
   "outputs": [],
   "source": [
    "datos, metadatos = tfds.load(\"mnist\", as_supervised=True, with_info=True)"
   ]
  },
  {
   "cell_type": "code",
   "execution_count": 4,
   "metadata": {},
   "outputs": [
    {
     "data": {
      "text/plain": [
       "tfds.core.DatasetInfo(\n",
       "    name='mnist',\n",
       "    full_name='mnist/3.0.1',\n",
       "    description=\"\"\"\n",
       "    The MNIST database of handwritten digits.\n",
       "    \"\"\",\n",
       "    homepage='http://yann.lecun.com/exdb/mnist/',\n",
       "    data_dir='/home/matias/tensorflow_datasets/mnist/3.0.1',\n",
       "    file_format=tfrecord,\n",
       "    download_size=11.06 MiB,\n",
       "    dataset_size=21.00 MiB,\n",
       "    features=FeaturesDict({\n",
       "        'image': Image(shape=(28, 28, 1), dtype=uint8),\n",
       "        'label': ClassLabel(shape=(), dtype=int64, num_classes=10),\n",
       "    }),\n",
       "    supervised_keys=('image', 'label'),\n",
       "    disable_shuffling=False,\n",
       "    splits={\n",
       "        'test': <SplitInfo num_examples=10000, num_shards=1>,\n",
       "        'train': <SplitInfo num_examples=60000, num_shards=1>,\n",
       "    },\n",
       "    citation=\"\"\"@article{lecun2010mnist,\n",
       "      title={MNIST handwritten digit database},\n",
       "      author={LeCun, Yann and Cortes, Corinna and Burges, CJ},\n",
       "      journal={ATT Labs [Online]. Available: http://yann.lecun.com/exdb/mnist},\n",
       "      volume={2},\n",
       "      year={2010}\n",
       "    }\"\"\",\n",
       ")"
      ]
     },
     "execution_count": 4,
     "metadata": {},
     "output_type": "execute_result"
    }
   ],
   "source": [
    "metadatos"
   ]
  },
  {
   "cell_type": "code",
   "execution_count": 5,
   "metadata": {},
   "outputs": [],
   "source": [
    "datos_entrenamiento = datos[\"train\"]\n",
    "datos_prueba = datos[\"test\"]"
   ]
  },
  {
   "cell_type": "code",
   "execution_count": 6,
   "metadata": {},
   "outputs": [
    {
     "data": {
      "text/plain": [
       "(TensorSpec(shape=(28, 28, 1), dtype=tf.uint8, name=None),\n",
       " TensorSpec(shape=(), dtype=tf.int64, name=None))"
      ]
     },
     "execution_count": 6,
     "metadata": {},
     "output_type": "execute_result"
    }
   ],
   "source": [
    "datos_entrenamiento.element_spec"
   ]
  },
  {
   "cell_type": "code",
   "execution_count": 7,
   "metadata": {},
   "outputs": [
    {
     "name": "stdout",
     "output_type": "stream",
     "text": [
      "['0', '1', '2', '3', '4', '5', '6', '7', '8', '9']\n"
     ]
    }
   ],
   "source": [
    "nombres_clases = metadatos.features[\"label\"].names\n",
    "print(nombres_clases)"
   ]
  },
  {
   "cell_type": "code",
   "execution_count": 8,
   "metadata": {},
   "outputs": [],
   "source": [
    "# En este caso requerimos muy poco pre-procesamiento,\n",
    "# pero hay algo muy importante, la normalización.\n",
    "# Normalización\n",
    "# 0-255 (1 byte) a 0-1 (0=0, 255=1, 127=.5)\n",
    "# los modelos funcionan mejor en general con números pequeños.\n",
    "\n",
    "# Ojo que los datos de entramientos traen imágenes y etiquetas\n",
    "def normalizar(imagenes, etiquetas):\n",
    "    imagenes = tf.cast(imagenes, tf.float32)\n",
    "    imagenes = imagenes / 255\n",
    "    return imagenes, etiquetas\n",
    "\n",
    "datos_entrenamiento = datos_entrenamiento.map(normalizar)\n",
    "datos_prueba = datos_prueba.map(normalizar)\n",
    "\n",
    "# Agregar en caché, ayuda a que mientras está procesando los datos\n",
    "# durante entrenamiento, los guarde en memoria para que isguientes\n",
    "# vueltas sean sean más rápidas en lugar de estar constantemente\n",
    "# cargandolas del disco.\n",
    "datos_entrenamiento = datos_entrenamiento.cache()\n",
    "datos_prueba = datos_prueba.cache()"
   ]
  },
  {
   "cell_type": "code",
   "execution_count": 9,
   "metadata": {},
   "outputs": [
    {
     "data": {
      "image/png": "[encoded data removed]",
      "text/plain": [
       "<Figure size 432x288 with 2 Axes>"
      ]
     },
     "metadata": {
      "needs_background": "light"
     },
     "output_type": "display_data"
    }
   ],
   "source": [
    "for imagen, etiqueta in datos_entrenamiento.take(1):\n",
    "    break\n",
    "\n",
    "import matplotlib.pyplot as plt\n",
    "# Mostrarlo en pantalla\n",
    "plt.figure()\n",
    "plt.imshow(imagen, cmap=plt.cm.binary)\n",
    "plt.colorbar()\n",
    "plt.show()"
   ]
  },
  {
   "cell_type": "code",
   "execution_count": 16,
   "metadata": {},
   "outputs": [
    {
     "name": "stdout",
     "output_type": "stream",
     "text": [
      "tf.Tensor([0.99215686], shape=(1,), dtype=float32)\n",
      "tf.Tensor([0.], shape=(1,), dtype=float32)\n",
      "tf.Tensor([0.39607844], shape=(1,), dtype=float32)\n"
     ]
    }
   ],
   "source": [
    "print(imagen[15][15])\n",
    "print(imagen[1][1])\n",
    "print(imagen[5][19])"
   ]
  },
  {
   "cell_type": "code",
   "execution_count": 18,
   "metadata": {},
   "outputs": [
    {
     "data": {
      "image/png": "[encoded data removed]",
      "text/plain": [
       "<Figure size 720x720 with 25 Axes>"
      ]
     },
     "metadata": {
      "needs_background": "light"
     },
     "output_type": "display_data"
    }
   ],
   "source": [
    "plt.figure(figsize=(10,10))\n",
    "for i, (imagen, etiqueta) in enumerate(datos_entrenamiento.take(25)):\n",
    "    plt.subplot(5, 5, i+1)\n",
    "    plt.imshow(imagen, cmap=plt.cm.binary)\n",
    "\n",
    "plt.show()"
   ]
  },
  {
   "cell_type": "markdown",
   "metadata": {},
   "source": [
    "## Modelo"
   ]
  },
  {
   "cell_type": "code",
   "execution_count": 19,
   "metadata": {},
   "outputs": [],
   "source": [
    "modelo = tf.keras.Sequential([\n",
    "    # 784 datos de entrada\n",
    "    tf.keras.layers.Flatten(input_shape=(28, 28, 1)), # 1 = blanco y negro\n",
    "    # # # Capa oculta\n",
    "    tf.keras.layers.Dense(1),\n",
    "    # Capas de salida\n",
    "    tf.keras.layers.Dense(10, activation=tf.nn.softmax)\n",
    "    \n",
    "])"
   ]
  },
  {
   "cell_type": "code",
   "execution_count": 20,
   "metadata": {},
   "outputs": [],
   "source": [
    "\n",
    "modelo.compile(\n",
    "    optimizer=\"adam\",\n",
    "    loss=tf.keras.losses.SparseCategoricalCrossentropy(),\n",
    "    metrics=[\"accuracy\"]\n",
    ")"
   ]
  },
  {
   "cell_type": "code",
   "execution_count": 21,
   "metadata": {},
   "outputs": [],
   "source": [
    "# Hay que hacer un poco de preprocesamiento adicional, a diferencia del anterior que\n",
    "# teníamos pocos datos, 7, ahora tenemos 70000 lo que hace que necesitemos hacer\n",
    "# algunas optimizaciones para que funcione de manera correcta y no se le acabe la\n",
    "# memoria ni se tarde tanto. Una de las opcines es especificar un tamaño.\n",
    "TAMANO_LOTE = 32\n",
    "\n",
    "datos_entrenamiento = datos_entrenamiento.repeat().shuffle(60000).batch(TAMANO_LOTE)\n",
    "datos_prueba = datos_prueba.batch(TAMANO_LOTE)"
   ]
  },
  {
   "cell_type": "code",
   "execution_count": 22,
   "metadata": {},
   "outputs": [
    {
     "name": "stdout",
     "output_type": "stream",
     "text": [
      "Epoch 1/10\n",
      "1875/1875 [==============================] - 2s 599us/step - loss: 1.7852 - accuracy: 0.2601\n",
      "Epoch 2/10\n",
      "1875/1875 [==============================] - 1s 587us/step - loss: 1.6598 - accuracy: 0.3081\n",
      "Epoch 3/10\n",
      "1875/1875 [==============================] - 1s 604us/step - loss: 1.6393 - accuracy: 0.3225\n",
      "Epoch 4/10\n",
      "1875/1875 [==============================] - 1s 594us/step - loss: 1.6226 - accuracy: 0.3426\n",
      "Epoch 5/10\n",
      "1875/1875 [==============================] - 1s 590us/step - loss: 1.6111 - accuracy: 0.3620\n",
      "Epoch 6/10\n",
      "1875/1875 [==============================] - 1s 618us/step - loss: 1.5950 - accuracy: 0.3699\n",
      "Epoch 7/10\n",
      "1875/1875 [==============================] - 1s 602us/step - loss: 1.5847 - accuracy: 0.3821\n",
      "Epoch 8/10\n",
      "1875/1875 [==============================] - 1s 596us/step - loss: 1.5689 - accuracy: 0.3963\n",
      "Epoch 9/10\n",
      "1875/1875 [==============================] - 1s 586us/step - loss: 1.5654 - accuracy: 0.4080\n",
      "Epoch 10/10\n",
      "1875/1875 [==============================] - 1s 589us/step - loss: 1.5608 - accuracy: 0.4093\n"
     ]
    }
   ],
   "source": [
    "import math\n",
    "\n",
    "# Entrenar\n",
    "entrenamiento = modelo.fit(\n",
    "    datos_entrenamiento,\n",
    "    epochs=10,\n",
    "    steps_per_epoch=math.ceil(60000/TAMANO_LOTE)\n",
    ")"
   ]
  },
  {
   "cell_type": "code",
   "execution_count": 23,
   "metadata": {},
   "outputs": [
    {
     "name": "stdout",
     "output_type": "stream",
     "text": [
      "Epoch 1/10\n",
      "1875/1875 [==============================] - 2s 780us/step - loss: 0.3652 - accuracy: 0.8950\n",
      "Epoch 2/10\n",
      "1875/1875 [==============================] - 2s 839us/step - loss: 0.2940 - accuracy: 0.9162\n",
      "Epoch 3/10\n",
      "1875/1875 [==============================] - 2s 886us/step - loss: 0.2923 - accuracy: 0.9171\n",
      "Epoch 4/10\n",
      "1875/1875 [==============================] - 2s 855us/step - loss: 0.2780 - accuracy: 0.9212\n",
      "Epoch 5/10\n",
      "1875/1875 [==============================] - 2s 862us/step - loss: 0.2840 - accuracy: 0.9215\n",
      "Epoch 6/10\n",
      "1875/1875 [==============================] - 2s 871us/step - loss: 0.2748 - accuracy: 0.9215\n",
      "Epoch 7/10\n",
      "1875/1875 [==============================] - 2s 848us/step - loss: 0.2698 - accuracy: 0.9253\n",
      "Epoch 8/10\n",
      "1875/1875 [==============================] - 2s 878us/step - loss: 0.2685 - accuracy: 0.9245\n",
      "Epoch 9/10\n",
      "1875/1875 [==============================] - 2s 843us/step - loss: 0.2684 - accuracy: 0.9244\n",
      "Epoch 10/10\n",
      "1875/1875 [==============================] - 2s 867us/step - loss: 0.2645 - accuracy: 0.9253\n"
     ]
    }
   ],
   "source": [
    "\n",
    "# Vemos resultados no muy prometedores, recordar que tenemos solo 1 neurona intermedia\n",
    "# Hacemos algunos cambios y probamos...\n",
    "\n",
    "modelo = tf.keras.Sequential([\n",
    "    # 784 datos de entrada\n",
    "    tf.keras.layers.Flatten(input_shape=(28, 28, 1)), # 1 = blanco y negro\n",
    "    # # # Capa oculta\n",
    "    tf.keras.layers.Dense(50),\n",
    "    tf.keras.layers.Dense(50),\n",
    "    # Capas de salida\n",
    "    tf.keras.layers.Dense(10, activation=tf.nn.softmax)\n",
    "    \n",
    "])\n",
    "\n",
    "modelo.compile(\n",
    "    optimizer=\"adam\",\n",
    "    loss=tf.keras.losses.SparseCategoricalCrossentropy(),\n",
    "    metrics=[\"accuracy\"]\n",
    ")\n",
    "\n",
    "# Entrenar\n",
    "entrenamiento = modelo.fit(\n",
    "    datos_entrenamiento,\n",
    "    epochs=10,\n",
    "    steps_per_epoch=math.ceil(60000/TAMANO_LOTE)\n",
    ")"
   ]
  },
  {
   "cell_type": "code",
   "execution_count": 24,
   "metadata": {},
   "outputs": [
    {
     "name": "stdout",
     "output_type": "stream",
     "text": [
      "Epoch 1/10\n",
      "1875/1875 [==============================] - 2s 825us/step - loss: 0.2930 - accuracy: 0.9146\n",
      "Epoch 2/10\n",
      "1875/1875 [==============================] - 2s 884us/step - loss: 0.1356 - accuracy: 0.9601\n",
      "Epoch 3/10\n",
      "1875/1875 [==============================] - 2s 873us/step - loss: 0.0981 - accuracy: 0.9706\n",
      "Epoch 4/10\n",
      "1875/1875 [==============================] - 2s 843us/step - loss: 0.0814 - accuracy: 0.9748\n",
      "Epoch 5/10\n",
      "1875/1875 [==============================] - 2s 871us/step - loss: 0.0654 - accuracy: 0.9792\n",
      "Epoch 6/10\n",
      "1875/1875 [==============================] - 2s 867us/step - loss: 0.0582 - accuracy: 0.9818\n",
      "Epoch 7/10\n",
      "1875/1875 [==============================] - 2s 848us/step - loss: 0.0491 - accuracy: 0.9845\n",
      "Epoch 8/10\n",
      "1875/1875 [==============================] - 2s 877us/step - loss: 0.0422 - accuracy: 0.9859\n",
      "Epoch 9/10\n",
      "1875/1875 [==============================] - 2s 863us/step - loss: 0.0387 - accuracy: 0.9876\n",
      "Epoch 10/10\n",
      "1875/1875 [==============================] - 2s 890us/step - loss: 0.0340 - accuracy: 0.9885\n"
     ]
    }
   ],
   "source": [
    "# Vemos resultados más prometedores, pero recordemos que la función de activación \n",
    "# al no indicarla, es lineal por el momento, vamos a probar una no linea para dar\n",
    "# o quitar esa caractetística al nuevo modelo. Es decir, que no sea forzosamente \n",
    "# lineal si no que pueda hacer todo tipo de cosas.\n",
    "# Hacemos algunos cambios y probamos...\n",
    "\n",
    "modelo = tf.keras.Sequential([\n",
    "    # 784 datos de entrada\n",
    "    tf.keras.layers.Flatten(input_shape=(28, 28, 1)), # 1 = blanco y negro\n",
    "    # # # Capa oculta\n",
    "    tf.keras.layers.Dense(50, activation=tf.nn.relu),\n",
    "    tf.keras.layers.Dense(50, activation=tf.nn.relu),\n",
    "    # Capas de salida\n",
    "    tf.keras.layers.Dense(10, activation=tf.nn.softmax)\n",
    "    \n",
    "])\n",
    "\n",
    "modelo.compile(\n",
    "    optimizer=\"adam\",\n",
    "    loss=tf.keras.losses.SparseCategoricalCrossentropy(),\n",
    "    metrics=[\"accuracy\"]\n",
    ")\n",
    "\n",
    "# Entrenar\n",
    "entrenamiento = modelo.fit(\n",
    "    datos_entrenamiento,\n",
    "    epochs=10,\n",
    "    steps_per_epoch=math.ceil(60000/TAMANO_LOTE)\n",
    ")"
   ]
  },
  {
   "cell_type": "code",
   "execution_count": null,
   "metadata": {},
   "outputs": [],
   "source": []
  },
  {
   "cell_type": "code",
   "execution_count": 27,
   "metadata": {},
   "outputs": [
    {
     "name": "stdout",
     "output_type": "stream",
     "text": [
      "1/1 [==============================] - 0s 10ms/step\n"
     ]
    },
    {
     "data": {
      "image/png": "[encoded data removed]",
      "text/plain": [
       "<Figure size 1440x720 with 50 Axes>"
      ]
     },
     "metadata": {},
     "output_type": "display_data"
    }
   ],
   "source": [
    "\n",
    "#Pintar una cuadricula con varias predicciones, y marcar si fue correcta (azul) o incorrecta (roja)\n",
    "import numpy as np\n",
    "\n",
    "for imagenes_prueba, etiquetas_prueba in datos_prueba.take(1):\n",
    "  imagenes_prueba = imagenes_prueba.numpy()\n",
    "  etiquetas_prueba = etiquetas_prueba.numpy()\n",
    "  predicciones = modelo.predict(imagenes_prueba)\n",
    "  \n",
    "def graficar_imagen(i, arr_predicciones, etiquetas_reales, imagenes):\n",
    "  arr_predicciones, etiqueta_real, img = arr_predicciones[i], etiquetas_reales[i], imagenes[i]\n",
    "  plt.grid(False)\n",
    "  plt.xticks([])\n",
    "  plt.yticks([])\n",
    "  \n",
    "  plt.imshow(img[...,0], cmap=plt.cm.binary)\n",
    "\n",
    "  etiqueta_prediccion = np.argmax(arr_predicciones)\n",
    "  if etiqueta_prediccion == etiqueta_real:\n",
    "    color = 'blue'\n",
    "  else:\n",
    "    color = 'red'\n",
    "  \n",
    "  plt.xlabel(\"{} {:2.0f}% ({})\".format(nombres_clases[etiqueta_prediccion],\n",
    "                                100*np.max(arr_predicciones),\n",
    "                                nombres_clases[etiqueta_real]),\n",
    "                                color=color)\n",
    "  \n",
    "def graficar_valor_arreglo(i, arr_predicciones, etiqueta_real):\n",
    "  arr_predicciones, etiqueta_real = arr_predicciones[i], etiqueta_real[i]\n",
    "  plt.grid(False)\n",
    "  plt.xticks([])\n",
    "  plt.yticks([])\n",
    "  grafica = plt.bar(range(10), arr_predicciones, color=\"#777777\")\n",
    "  plt.ylim([0, 1]) \n",
    "  etiqueta_prediccion = np.argmax(arr_predicciones)\n",
    "  \n",
    "  grafica[etiqueta_prediccion].set_color('red')\n",
    "  grafica[etiqueta_real].set_color('blue')\n",
    "  \n",
    "filas = 5\n",
    "columnas = 5\n",
    "num_imagenes = filas*columnas\n",
    "plt.figure(figsize=(2*2*columnas, 2*filas))\n",
    "for i in range(num_imagenes):\n",
    "  plt.subplot(filas, 2*columnas, 2*i+1)\n",
    "  graficar_imagen(i, predicciones, etiquetas_prueba, imagenes_prueba)\n",
    "  plt.subplot(filas, 2*columnas, 2*i+2)\n",
    "  graficar_valor_arreglo(i, predicciones, etiquetas_prueba)"
   ]
  },
  {
   "cell_type": "code",
   "execution_count": null,
   "metadata": {},
   "outputs": [],
   "source": []
  }
 ],
 "metadata": {
  "kernelspec": {
   "display_name": "env_test",
   "language": "python",
   "name": "python3"
  },
  "language_info": {
   "codemirror_mode": {
    "name": "ipython",
    "version": 3
   },
   "file_extension": ".py",
   "mimetype": "text/x-python",
   "name": "python",
   "nbconvert_exporter": "python",
   "pygments_lexer": "ipython3",
   "version": "3.10.12"
  }
 },
 "nbformat": 4,
 "nbformat_minor": 2
}
